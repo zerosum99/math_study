{
 "cells": [
  {
   "cell_type": "code",
   "execution_count": 1,
   "metadata": {},
   "outputs": [],
   "source": [
    "import numpy as np"
   ]
  },
  {
   "cell_type": "code",
   "execution_count": 2,
   "metadata": {},
   "outputs": [],
   "source": [
    "%matplotlib inline"
   ]
  },
  {
   "cell_type": "code",
   "execution_count": 3,
   "metadata": {},
   "outputs": [],
   "source": [
    "import matplotlib.pyplot as plt"
   ]
  },
  {
   "cell_type": "code",
   "execution_count": 4,
   "metadata": {},
   "outputs": [],
   "source": [
    "x = np.linspace(-4,4, 100)"
   ]
  },
  {
   "cell_type": "code",
   "execution_count": 5,
   "metadata": {},
   "outputs": [
    {
     "data": {
      "text/plain": [
       "array([-4.        , -3.91919192, -3.83838384, -3.75757576, -3.67676768,\n",
       "       -3.5959596 , -3.51515152, -3.43434343, -3.35353535, -3.27272727,\n",
       "       -3.19191919, -3.11111111, -3.03030303, -2.94949495, -2.86868687,\n",
       "       -2.78787879, -2.70707071, -2.62626263, -2.54545455, -2.46464646,\n",
       "       -2.38383838, -2.3030303 , -2.22222222, -2.14141414, -2.06060606,\n",
       "       -1.97979798, -1.8989899 , -1.81818182, -1.73737374, -1.65656566,\n",
       "       -1.57575758, -1.49494949, -1.41414141, -1.33333333, -1.25252525,\n",
       "       -1.17171717, -1.09090909, -1.01010101, -0.92929293, -0.84848485,\n",
       "       -0.76767677, -0.68686869, -0.60606061, -0.52525253, -0.44444444,\n",
       "       -0.36363636, -0.28282828, -0.2020202 , -0.12121212, -0.04040404,\n",
       "        0.04040404,  0.12121212,  0.2020202 ,  0.28282828,  0.36363636,\n",
       "        0.44444444,  0.52525253,  0.60606061,  0.68686869,  0.76767677,\n",
       "        0.84848485,  0.92929293,  1.01010101,  1.09090909,  1.17171717,\n",
       "        1.25252525,  1.33333333,  1.41414141,  1.49494949,  1.57575758,\n",
       "        1.65656566,  1.73737374,  1.81818182,  1.8989899 ,  1.97979798,\n",
       "        2.06060606,  2.14141414,  2.22222222,  2.3030303 ,  2.38383838,\n",
       "        2.46464646,  2.54545455,  2.62626263,  2.70707071,  2.78787879,\n",
       "        2.86868687,  2.94949495,  3.03030303,  3.11111111,  3.19191919,\n",
       "        3.27272727,  3.35353535,  3.43434343,  3.51515152,  3.5959596 ,\n",
       "        3.67676768,  3.75757576,  3.83838384,  3.91919192,  4.        ])"
      ]
     },
     "execution_count": 5,
     "metadata": {},
     "output_type": "execute_result"
    }
   ],
   "source": [
    "x"
   ]
  },
  {
   "cell_type": "markdown",
   "metadata": {},
   "source": [
    "## 지수 함수"
   ]
  },
  {
   "cell_type": "code",
   "execution_count": 6,
   "metadata": {},
   "outputs": [],
   "source": [
    "y = 2 ** x"
   ]
  },
  {
   "cell_type": "code",
   "execution_count": 7,
   "metadata": {},
   "outputs": [
    {
     "data": {
      "text/plain": [
       "array([ 0.0625    ,  0.06610064,  0.06990872,  0.07393618,  0.07819566,\n",
       "        0.08270053,  0.08746493,  0.09250381,  0.09783298,  0.10346916,\n",
       "        0.10943005,  0.11573434,  0.12240182,  0.12945343,  0.13691127,\n",
       "        0.14479877,  0.15314066,  0.16196313,  0.17129387,  0.18116216,\n",
       "        0.19159896,  0.20263702,  0.214311  ,  0.22665751,  0.23971531,\n",
       "        0.25352537,  0.26813103,  0.28357813,  0.29991514,  0.31719333,\n",
       "        0.33546692,  0.35479326,  0.37523299,  0.39685026,  0.41971291,\n",
       "        0.44389268,  0.46946546,  0.49651148,  0.52511564,  0.55536769,\n",
       "        0.58736257,  0.62120068,  0.65698821,  0.69483748,  0.73486725,\n",
       "        0.77720314,  0.82197802,  0.86933239,  0.91941485,  0.97238258,\n",
       "        1.0284018 ,  1.0876483 ,  1.150308  ,  1.21657755,  1.2866649 ,\n",
       "        1.36079   ,  1.43918547,  1.52209732,  1.60978575,  1.70252593,\n",
       "        1.80060889,  1.90434244,  2.01405211,  2.13008218,  2.25279677,\n",
       "        2.38258098,  2.5198421 ,  2.66501086,  2.81854284,  2.98091983,\n",
       "        3.1526514 ,  3.33427648,  3.52636502,  3.72951983,  3.94437845,\n",
       "        4.17161513,  4.41194297,  4.66611616,  4.93493233,  5.21923508,\n",
       "        5.51991658,  5.83792042,  6.17424455,  6.5299444 ,  6.90613621,\n",
       "        7.30400052,  7.72478591,  8.16981285,  8.64047791,  9.13825811,\n",
       "        9.66471556, 10.22150235, 10.81036578, 11.43315379, 12.09182078,\n",
       "       12.78843374, 13.52517877, 14.30436786, 15.12844624, 16.        ])"
      ]
     },
     "execution_count": 7,
     "metadata": {},
     "output_type": "execute_result"
    }
   ],
   "source": [
    "y"
   ]
  },
  {
   "cell_type": "code",
   "execution_count": 8,
   "metadata": {},
   "outputs": [],
   "source": [
    "y_ = np.power(2, x)"
   ]
  },
  {
   "cell_type": "code",
   "execution_count": 9,
   "metadata": {},
   "outputs": [
    {
     "data": {
      "text/plain": [
       "array([ 0.0625    ,  0.06610064,  0.06990872,  0.07393618,  0.07819566,\n",
       "        0.08270053,  0.08746493,  0.09250381,  0.09783298,  0.10346916,\n",
       "        0.10943005,  0.11573434,  0.12240182,  0.12945343,  0.13691127,\n",
       "        0.14479877,  0.15314066,  0.16196313,  0.17129387,  0.18116216,\n",
       "        0.19159896,  0.20263702,  0.214311  ,  0.22665751,  0.23971531,\n",
       "        0.25352537,  0.26813103,  0.28357813,  0.29991514,  0.31719333,\n",
       "        0.33546692,  0.35479326,  0.37523299,  0.39685026,  0.41971291,\n",
       "        0.44389268,  0.46946546,  0.49651148,  0.52511564,  0.55536769,\n",
       "        0.58736257,  0.62120068,  0.65698821,  0.69483748,  0.73486725,\n",
       "        0.77720314,  0.82197802,  0.86933239,  0.91941485,  0.97238258,\n",
       "        1.0284018 ,  1.0876483 ,  1.150308  ,  1.21657755,  1.2866649 ,\n",
       "        1.36079   ,  1.43918547,  1.52209732,  1.60978575,  1.70252593,\n",
       "        1.80060889,  1.90434244,  2.01405211,  2.13008218,  2.25279677,\n",
       "        2.38258098,  2.5198421 ,  2.66501086,  2.81854284,  2.98091983,\n",
       "        3.1526514 ,  3.33427648,  3.52636502,  3.72951983,  3.94437845,\n",
       "        4.17161513,  4.41194297,  4.66611616,  4.93493233,  5.21923508,\n",
       "        5.51991658,  5.83792042,  6.17424455,  6.5299444 ,  6.90613621,\n",
       "        7.30400052,  7.72478591,  8.16981285,  8.64047791,  9.13825811,\n",
       "        9.66471556, 10.22150235, 10.81036578, 11.43315379, 12.09182078,\n",
       "       12.78843374, 13.52517877, 14.30436786, 15.12844624, 16.        ])"
      ]
     },
     "execution_count": 9,
     "metadata": {},
     "output_type": "execute_result"
    }
   ],
   "source": [
    "y_"
   ]
  },
  {
   "cell_type": "code",
   "execution_count": 10,
   "metadata": {},
   "outputs": [],
   "source": [
    "y2 = np.power(3, x)"
   ]
  },
  {
   "cell_type": "code",
   "execution_count": 11,
   "metadata": {},
   "outputs": [
    {
     "data": {
      "text/plain": [
       "array([1.23456790e-02, 1.34918105e-02, 1.47443451e-02, 1.61131608e-02,\n",
       "       1.76090527e-02, 1.92438182e-02, 2.10303499e-02, 2.29827372e-02,\n",
       "       2.51163776e-02, 2.74480981e-02, 2.99962877e-02, 3.27810427e-02,\n",
       "       3.58243250e-02, 3.91501354e-02, 4.27847030e-02, 4.67566917e-02,\n",
       "       5.10974265e-02, 5.58411406e-02, 6.10252452e-02, 6.66906248e-02,\n",
       "       7.28819593e-02, 7.96480765e-02, 8.70423374e-02, 9.51230568e-02,\n",
       "       1.03953963e-01, 1.13604701e-01, 1.24151382e-01, 1.35677180e-01,\n",
       "       1.48272996e-01, 1.62038165e-01, 1.77081246e-01, 1.93520876e-01,\n",
       "       2.11486707e-01, 2.31120425e-01, 2.52576872e-01, 2.76025263e-01,\n",
       "       3.01650525e-01, 3.29654751e-01, 3.60258795e-01, 3.93704016e-01,\n",
       "       4.30254179e-01, 4.70197537e-01, 5.13849104e-01, 5.61553135e-01,\n",
       "       6.13685849e-01, 6.70658390e-01, 7.32920071e-01, 8.00961918e-01,\n",
       "       8.75320542e-01, 9.56582372e-01, 1.04538828e+00, 1.14243863e+00,\n",
       "       1.24849881e+00, 1.36440526e+00, 1.49107208e+00, 1.62949822e+00,\n",
       "       1.78077538e+00, 1.94609661e+00, 2.12676571e+00, 2.32420752e+00,\n",
       "       2.53997917e+00, 2.77578234e+00, 3.03347668e+00, 3.31509451e+00,\n",
       "       3.62285679e+00, 3.95919069e+00, 4.32674871e+00, 4.72842958e+00,\n",
       "       5.16740116e+00, 5.64712540e+00, 6.17138563e+00, 6.74431642e+00,\n",
       "       7.37043619e+00, 8.05468282e+00, 8.80245262e+00, 9.61964287e+00,\n",
       "       1.05126983e+01, 1.14886621e+01, 1.25552310e+01, 1.37208166e+01,\n",
       "       1.49946114e+01, 1.63866609e+01, 1.79079437e+01, 1.95704572e+01,\n",
       "       2.13873130e+01, 2.33728396e+01, 2.55426958e+01, 2.79139942e+01,\n",
       "       3.05054360e+01, 3.33374586e+01, 3.64323967e+01, 3.98146586e+01,\n",
       "       4.35109182e+01, 4.75503263e+01, 5.19647395e+01, 5.67889720e+01,\n",
       "       6.20610702e+01, 6.78226123e+01, 7.41190366e+01, 8.10000000e+01])"
      ]
     },
     "execution_count": 11,
     "metadata": {},
     "output_type": "execute_result"
    }
   ],
   "source": [
    "y2"
   ]
  },
  {
   "cell_type": "code",
   "execution_count": 12,
   "metadata": {},
   "outputs": [],
   "source": [
    "y3 = np.power(0.5, x)"
   ]
  },
  {
   "cell_type": "code",
   "execution_count": 13,
   "metadata": {},
   "outputs": [
    {
     "data": {
      "text/plain": [
       "array([16.        , 15.12844624, 14.30436786, 13.52517877, 12.78843374,\n",
       "       12.09182078, 11.43315379, 10.81036578, 10.22150235,  9.66471556,\n",
       "        9.13825811,  8.64047791,  8.16981285,  7.72478591,  7.30400052,\n",
       "        6.90613621,  6.5299444 ,  6.17424455,  5.83792042,  5.51991658,\n",
       "        5.21923508,  4.93493233,  4.66611616,  4.41194297,  4.17161513,\n",
       "        3.94437845,  3.72951983,  3.52636502,  3.33427648,  3.1526514 ,\n",
       "        2.98091983,  2.81854284,  2.66501086,  2.5198421 ,  2.38258098,\n",
       "        2.25279677,  2.13008218,  2.01405211,  1.90434244,  1.80060889,\n",
       "        1.70252593,  1.60978575,  1.52209732,  1.43918547,  1.36079   ,\n",
       "        1.2866649 ,  1.21657755,  1.150308  ,  1.0876483 ,  1.0284018 ,\n",
       "        0.97238258,  0.91941485,  0.86933239,  0.82197802,  0.77720314,\n",
       "        0.73486725,  0.69483748,  0.65698821,  0.62120068,  0.58736257,\n",
       "        0.55536769,  0.52511564,  0.49651148,  0.46946546,  0.44389268,\n",
       "        0.41971291,  0.39685026,  0.37523299,  0.35479326,  0.33546692,\n",
       "        0.31719333,  0.29991514,  0.28357813,  0.26813103,  0.25352537,\n",
       "        0.23971531,  0.22665751,  0.214311  ,  0.20263702,  0.19159896,\n",
       "        0.18116216,  0.17129387,  0.16196313,  0.15314066,  0.14479877,\n",
       "        0.13691127,  0.12945343,  0.12240182,  0.11573434,  0.10943005,\n",
       "        0.10346916,  0.09783298,  0.09250381,  0.08746493,  0.08270053,\n",
       "        0.07819566,  0.07393618,  0.06990872,  0.06610064,  0.0625    ])"
      ]
     },
     "execution_count": 13,
     "metadata": {},
     "output_type": "execute_result"
    }
   ],
   "source": [
    "y3"
   ]
  },
  {
   "cell_type": "code",
   "execution_count": 14,
   "metadata": {},
   "outputs": [
    {
     "data": {
      "image/png": "[encoded data removed]",
      "text/plain": [
       "<Figure size 360x360 with 1 Axes>"
      ]
     },
     "metadata": {
      "needs_background": "light"
     },
     "output_type": "display_data"
    }
   ],
   "source": [
    "plt.figure(figsize=(5,5))\n",
    "\n",
    "plt.plot(x,y, label='$y=2^x$')\n",
    "plt.plot(x,y2, label='$y=3^x$')\n",
    "plt.plot(x,y3,  label='$y=0.5^x$')\n",
    "\n",
    "plt.ylim(-2,6)\n",
    "plt.xlim(-4,4)\n",
    "plt.grid(True)\n",
    "\n",
    "plt.legend()\n",
    "plt.show()"
   ]
  },
  {
   "cell_type": "markdown",
   "metadata": {},
   "source": [
    "## 로그 함수 "
   ]
  },
  {
   "cell_type": "code",
   "execution_count": null,
   "metadata": {},
   "outputs": [],
   "source": []
  },
  {
   "cell_type": "code",
   "execution_count": 15,
   "metadata": {},
   "outputs": [],
   "source": [
    "x = np.linspace(-8,8, 100)"
   ]
  },
  {
   "cell_type": "code",
   "execution_count": 16,
   "metadata": {},
   "outputs": [],
   "source": [
    "y = 2 ** x"
   ]
  },
  {
   "cell_type": "code",
   "execution_count": null,
   "metadata": {},
   "outputs": [],
   "source": []
  },
  {
   "cell_type": "code",
   "execution_count": 17,
   "metadata": {},
   "outputs": [],
   "source": [
    "x2 = np.linspace(0.001, 8, 100)"
   ]
  },
  {
   "cell_type": "code",
   "execution_count": 18,
   "metadata": {},
   "outputs": [],
   "source": [
    "y2 = np.log(x2) / np.log(2)"
   ]
  },
  {
   "cell_type": "code",
   "execution_count": null,
   "metadata": {},
   "outputs": [],
   "source": []
  },
  {
   "cell_type": "code",
   "execution_count": 20,
   "metadata": {},
   "outputs": [
    {
     "data": {
      "image/png": "[encoded data removed]",
      "text/plain": [
       "<Figure size 360x360 with 1 Axes>"
      ]
     },
     "metadata": {
      "needs_background": "light"
     },
     "output_type": "display_data"
    }
   ],
   "source": [
    "plt.figure(figsize=(5,5))\n",
    "\n",
    "plt.plot(x,y)\n",
    "plt.plot(x2, y2)\n",
    "plt.plot(x,x, linestyle='--')\n",
    "\n",
    "plt.ylim(-8,8)\n",
    "plt.xlim(-8,8)\n",
    "plt.show()"
   ]
  },
  {
   "cell_type": "markdown",
   "metadata": {},
   "source": [
    "## 로그 내에 곱셈은  로그의 합을 처리"
   ]
  },
  {
   "cell_type": "markdown",
   "metadata": {},
   "source": [
    "### 로그 내의 값들을 곱셈으로 처리"
   ]
  },
  {
   "cell_type": "code",
   "execution_count": 24,
   "metadata": {},
   "outputs": [
    {
     "data": {
      "text/plain": [
       "6"
      ]
     },
     "execution_count": 24,
     "metadata": {},
     "output_type": "execute_result"
    }
   ],
   "source": [
    "np.prod([1,2,3])"
   ]
  },
  {
   "cell_type": "code",
   "execution_count": 25,
   "metadata": {},
   "outputs": [
    {
     "data": {
      "text/plain": [
       "1.791759469228055"
      ]
     },
     "execution_count": 25,
     "metadata": {},
     "output_type": "execute_result"
    }
   ],
   "source": [
    "np.log(6)"
   ]
  },
  {
   "cell_type": "code",
   "execution_count": 22,
   "metadata": {},
   "outputs": [
    {
     "data": {
      "text/plain": [
       "1.791759469228055"
      ]
     },
     "execution_count": 22,
     "metadata": {},
     "output_type": "execute_result"
    }
   ],
   "source": [
    "np.log(np.prod([1,2,3]))"
   ]
  },
  {
   "cell_type": "markdown",
   "metadata": {},
   "source": [
    "### 로그를 처리한 것을 합산"
   ]
  },
  {
   "cell_type": "code",
   "execution_count": 27,
   "metadata": {},
   "outputs": [],
   "source": [
    "lx = np.log([1,2,3])"
   ]
  },
  {
   "cell_type": "code",
   "execution_count": 29,
   "metadata": {},
   "outputs": [
    {
     "data": {
      "text/plain": [
       "array([0.        , 0.69314718, 1.09861229])"
      ]
     },
     "execution_count": 29,
     "metadata": {},
     "output_type": "execute_result"
    }
   ],
   "source": [
    "lx"
   ]
  },
  {
   "cell_type": "code",
   "execution_count": 28,
   "metadata": {},
   "outputs": [
    {
     "data": {
      "text/plain": [
       "1.791759469228055"
      ]
     },
     "execution_count": 28,
     "metadata": {},
     "output_type": "execute_result"
    }
   ],
   "source": [
    "np.sum(lx)"
   ]
  },
  {
   "cell_type": "code",
   "execution_count": 23,
   "metadata": {},
   "outputs": [
    {
     "data": {
      "text/plain": [
       "1.791759469228055"
      ]
     },
     "execution_count": 23,
     "metadata": {},
     "output_type": "execute_result"
    }
   ],
   "source": [
    "np.sum(np.log([1,2,3]))"
   ]
  },
  {
   "cell_type": "markdown",
   "metadata": {},
   "source": [
    "## 함수에 대한 최소값을 선택"
   ]
  },
  {
   "cell_type": "code",
   "execution_count": 30,
   "metadata": {},
   "outputs": [
    {
     "data": {
      "text/plain": [
       "0"
      ]
     },
     "execution_count": 30,
     "metadata": {},
     "output_type": "execute_result"
    }
   ],
   "source": [
    "np.argmin([1,2,3])"
   ]
  },
  {
   "cell_type": "markdown",
   "metadata": {},
   "source": [
    "## 시그모이드 함수\n",
    "\n"
   ]
  },
  {
   "cell_type": "code",
   "execution_count": 31,
   "metadata": {},
   "outputs": [],
   "source": [
    "x = np.linspace(-10,10, 100)"
   ]
  },
  {
   "cell_type": "code",
   "execution_count": 32,
   "metadata": {},
   "outputs": [],
   "source": [
    "y = 1 / (1 + np.exp(-x))"
   ]
  },
  {
   "cell_type": "code",
   "execution_count": 33,
   "metadata": {},
   "outputs": [
    {
     "data": {
      "image/png": "[encoded data removed]",
      "text/plain": [
       "<Figure size 288x288 with 1 Axes>"
      ]
     },
     "metadata": {
      "needs_background": "light"
     },
     "output_type": "display_data"
    }
   ],
   "source": [
    "plt.figure(figsize=(4,4))\n",
    "\n",
    "plt.plot(x,y) \n",
    "plt.ylim(-1,2)\n",
    "plt.xlim(-10,10)\n",
    "plt.grid(True)\n",
    "plt.show()"
   ]
  },
  {
   "cell_type": "code",
   "execution_count": null,
   "metadata": {},
   "outputs": [],
   "source": []
  }
 ],
 "metadata": {
  "kernelspec": {
   "display_name": "Python 3",
   "language": "python",
   "name": "python3"
  },
  "language_info": {
   "codemirror_mode": {
    "name": "ipython",
    "version": 3
   },
   "file_extension": ".py",
   "mimetype": "text/x-python",
   "name": "python",
   "nbconvert_exporter": "python",
   "pygments_lexer": "ipython3",
   "version": "3.7.3"
  }
 },
 "nbformat": 4,
 "nbformat_minor": 2
}
